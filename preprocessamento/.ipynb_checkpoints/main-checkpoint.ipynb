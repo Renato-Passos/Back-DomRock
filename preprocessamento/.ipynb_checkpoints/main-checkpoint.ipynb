{
 "cells": [
  {
   "cell_type": "code",
   "execution_count": 1,
   "metadata": {},
   "outputs": [
    {
     "ename": "ModuleNotFoundError",
     "evalue": "No module named 'pandas'",
     "output_type": "error",
     "traceback": [
      "\u001b[0;31m---------------------------------------------------------------------------\u001b[0m",
      "\u001b[0;31mModuleNotFoundError\u001b[0m                       Traceback (most recent call last)",
      "Cell \u001b[0;32mIn[1], line 1\u001b[0m\n\u001b[0;32m----> 1\u001b[0m \u001b[38;5;28;01mimport\u001b[39;00m \u001b[38;5;21;01mpandas\u001b[39;00m \u001b[38;5;28;01mas\u001b[39;00m \u001b[38;5;21;01mpd\u001b[39;00m\n\u001b[1;32m      2\u001b[0m \u001b[38;5;28;01mfrom\u001b[39;00m \u001b[38;5;21;01mdatasets\u001b[39;00m \u001b[38;5;28;01mimport\u001b[39;00m load_dataset\n\u001b[1;32m      3\u001b[0m \u001b[38;5;28;01mimport\u001b[39;00m \u001b[38;5;21;01mnltk\u001b[39;00m\n",
      "\u001b[0;31mModuleNotFoundError\u001b[0m: No module named 'pandas'"
     ]
    }
   ],
   "source": [
    "import pandas as pd\n",
    "from datasets import load_dataset\n",
    "import nltk\n",
    "from nltk.corpus import stopwords\n",
    "from nltk.tokenize import word_tokenize\n",
    "nltk.download('punkt_tab')\n",
    "import unicodedata\n",
    "import string\n",
    "from tokenizers import ByteLevelBPETokenizer\n",
    "nltk.download('stopwords')\n",
    "from sklearn.model_selection import train_test_split\n",
    "import matplotlib.pyplot as plt"
   ]
  },
  {
   "cell_type": "markdown",
   "metadata": {},
   "source": [
    "Carregando e lendo o datasets:"
   ]
  },
  {
   "cell_type": "code",
   "execution_count": null,
   "metadata": {},
   "outputs": [],
   "source": [
    "dataset = load_dataset(\"ruanchaves/b2w-reviews01\", split='train')\n",
    "df = pd.DataFrame(dataset)\n",
    "df.to_csv('./datasets/dataset.csv', index=False)\n"
   ]
  },
  {
   "cell_type": "code",
   "execution_count": null,
   "metadata": {},
   "outputs": [],
   "source": [
    "df.head()"
   ]
  },
  {
   "cell_type": "markdown",
   "metadata": {},
   "source": [
    "Extraindo apenas as colunas que serão utilizadas: reviewer_id', 'product_name', 'recommend_to_a_friend', 'review_text'"
   ]
  },
  {
   "cell_type": "code",
   "execution_count": null,
   "metadata": {},
   "outputs": [],
   "source": [
    "def extrair_coluna(arquivo_entrada, colunas_desejadas, arquivo_saida):\n",
    "\n",
    "  df = pd.read_csv(arquivo_entrada)\n",
    "\n",
    "  dados_coluna = df[colunas_desejadas]\n",
    "\n",
    "  # Salva os dados em um novo arquivo CSV\n",
    "  dados_coluna.to_csv(arquivo_saida, index=False)\n",
    "\n",
    "arquivo_entrada = \"./datasets/dataset.csv\"\n",
    "\n",
    "colunas_desejadas = [ 'product_name', 'overall_rating', 'review_text']\n",
    "novo_arquivo = \"./datasets/dataset_reduzido.csv\"\n",
    "\n",
    "extrair_coluna(arquivo_entrada, colunas_desejadas, novo_arquivo)"
   ]
  },
  {
   "cell_type": "markdown",
   "metadata": {},
   "source": [
    "Prepocessamento:"
   ]
  },
  {
   "cell_type": "code",
   "execution_count": null,
   "metadata": {},
   "outputs": [],
   "source": [
    "def preprocess_text(text):\n",
    "    # Convertendo letras maiúculas para minúsculas.\n",
    "    text = text.lower()\n",
    "    \n",
    "    # Removendo acentos.\n",
    "    text = ''.join(\n",
    "        char for char in unicodedata.normalize('NFD', text)\n",
    "        if unicodedata.category(char) != 'Mn'\n",
    "    )\n",
    "    # Removendo pontuações.\n",
    "    text = text.translate(str.maketrans('', '', string.punctuation))\n",
    "    \n",
    "    # Removendo stopwords\n",
    "    text = ' '.join([word for word in text.split() if word not in stop_words])\n",
    "    \n",
    "    return text\n",
    "\n",
    "\n",
    "stop_words = set(stopwords.words('portuguese'))\n",
    "# Lista de colunas que serão pré-processadas\n",
    "colunas_texto = [ 'product_name', 'overall_rating', 'review_text']\n",
    "\n",
    "\n",
    "# Aplicando o pré-processamento em cada coluna de texto\n",
    "for coluna in colunas_texto:\n",
    "    df[coluna] = df[coluna].apply(lambda x: preprocess_text(str(x)))\n",
    "\n",
    "# Salvando o DataFrame pré-processado em um novo arquivo CSV\n",
    "df.to_csv('./datasets/dataset_preprocessed.csv', index=False)"
   ]
  },
  {
   "cell_type": "code",
   "execution_count": null,
   "metadata": {},
   "outputs": [],
   "source": [
    "df = pd.read_csv('./datasets/dataset_preprocessed.csv')\n",
    "\n",
    "# Obter os valores de notas e produtos\n",
    "values = df['overall_rating'].value_counts()\n",
    "\n",
    "# Criar o gráfico de barras\n",
    "plt.figure(figsize=(10, 6))\n",
    "plt.bar(values.index, values.values)\n",
    "\n",
    "# Configurar os labels e título\n",
    "plt.xlabel('Rating')\n",
    "plt.ylabel('Contagem')\n",
    "plt.title('Distribuição de Recomendações')\n",
    "\n",
    "# Exibir o gráfico\n",
    "plt.show()"
   ]
  },
  {
   "cell_type": "code",
   "execution_count": 2,
   "metadata": {},
   "outputs": [
    {
     "ename": "NameError",
     "evalue": "name 'pd' is not defined",
     "output_type": "error",
     "traceback": [
      "\u001b[0;31m---------------------------------------------------------------------------\u001b[0m",
      "\u001b[0;31mNameError\u001b[0m                                 Traceback (most recent call last)",
      "Cell \u001b[0;32mIn[2], line 1\u001b[0m\n\u001b[0;32m----> 1\u001b[0m df \u001b[38;5;241m=\u001b[39m pd\u001b[38;5;241m.\u001b[39mread_csv(\u001b[38;5;124m'\u001b[39m\u001b[38;5;124m./datasets/dataset_preprocessed.csv\u001b[39m\u001b[38;5;124m'\u001b[39m)\n\u001b[1;32m      2\u001b[0m df\u001b[38;5;241m.\u001b[39mhead(\u001b[38;5;241m10\u001b[39m)\n",
      "\u001b[0;31mNameError\u001b[0m: name 'pd' is not defined"
     ]
    }
   ],
   "source": [
    "df = pd.read_csv('./datasets/dataset_preprocessed.csv')\n",
    "df.head(10)"
   ]
  },
  {
   "cell_type": "code",
   "execution_count": null,
   "metadata": {},
   "outputs": [],
   "source": []
  }
 ],
 "metadata": {
  "kernelspec": {
   "display_name": "Python 3 (ipykernel)",
   "language": "python",
   "name": "python3"
  },
  "language_info": {
   "codemirror_mode": {
    "name": "ipython",
    "version": 3
   },
   "file_extension": ".py",
   "mimetype": "text/x-python",
   "name": "python",
   "nbconvert_exporter": "python",
   "pygments_lexer": "ipython3",
   "version": "3.12.5"
  }
 },
 "nbformat": 4,
 "nbformat_minor": 4
}
